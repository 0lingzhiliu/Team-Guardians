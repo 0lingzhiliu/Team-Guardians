{
 "cells": [
  {
   "cell_type": "markdown",
   "metadata": {},
   "source": [
    "# CNN for TG Radar spectrogram image classifcation"
   ]
  },
  {
   "cell_type": "markdown",
   "metadata": {},
   "source": [
    "## T3-2022"
   ]
  },
  {
   "cell_type": "markdown",
   "metadata": {},
   "source": [
    "### Kussay Al-Zubaidi: ML modelling\n",
    "### Brandon Low: Data Wrangling and Visualisation \n",
    "### Sai Gowtham Reddy Pulagam: Data Wrangling and Visualisation/ ML modelling"
   ]
  },
  {
   "cell_type": "code",
   "execution_count": 1,
   "metadata": {
    "scrolled": true
   },
   "outputs": [],
   "source": [
    "import torch \n",
    "import torchvision \n",
    "import torchvision.transforms as transforms \n",
    "from torchvision import datasets \n",
    "\n",
    "transform = transforms.Compose( \n",
    "    [transforms.Resize((32,32)), # you can change the image size, but need to change the architecture accordingly \n",
    " transforms.ToTensor(), \n",
    " transforms.Normalize((0.5, 0.5, 0.5), (0.5, 0.5, 0.5))]) \n",
    "trainset = datasets.ImageFolder(r'C:\\Users\\User\\Downloads\\OneDrive_2022-12-01\\Spectrogram_Outputs_small_and_large\\train', transform=transform) \n",
    "\n",
    "trainloader = torch.utils.data.DataLoader(trainset, \n",
    " batch_size=3, #process only 3 images at a time \n",
    " shuffle=True, num_workers=2) \n",
    "\n",
    "testset = datasets.ImageFolder(r'C:\\Users\\User\\Downloads\\OneDrive_2022-12-01\\Spectrogram_Outputs_small_and_large\\test', transform=transform) \n",
    "\n",
    "testloader = torch.utils.data.DataLoader(testset, \n",
    " batch_size=3, #process only 3 images at a time \n",
    " shuffle=False, num_workers=2) \n",
    "\n",
    "classes = ('sitting', 'standingup', 'walking') "
   ]
  },
  {
   "cell_type": "code",
   "execution_count": 2,
   "metadata": {},
   "outputs": [
    {
     "data": {
      "image/png": "[encoded data removed]",
      "text/plain": [
       "<Figure size 432x288 with 1 Axes>"
      ]
     },
     "metadata": {
      "needs_background": "light"
     },
     "output_type": "display_data"
    },
    {
     "name": "stdout",
     "output_type": "stream",
     "text": [
      "sitting walking walking\n"
     ]
    }
   ],
   "source": [
    "import matplotlib.pyplot as plt \n",
    "import numpy as np \n",
    "\n",
    "# function to show an image \n",
    "def imshow(img): \n",
    "    img = img / 2 + 0.5 # unnormalize \n",
    "    npimg = img.numpy() \n",
    "    plt.imshow(np.transpose(npimg, (1, 2, 0))) \n",
    "    plt.show() \n",
    "    \n",
    "# get some random training images \n",
    "dataiter = iter(trainloader) \n",
    "images, labels = dataiter.next() \n",
    "\n",
    "# show images \n",
    "imshow(torchvision.utils.make_grid(images)) \n",
    "\n",
    "# print true labels of the images \n",
    "print(' '.join('%5s' % classes[labels[j]] for j in range(3)))"
   ]
  },
  {
   "cell_type": "code",
   "execution_count": 3,
   "metadata": {},
   "outputs": [],
   "source": [
    "import torch.nn as nn \n",
    "import torch.nn.functional as F \n",
    "class Net(nn.Module): \n",
    "    def __init__(self): \n",
    "        super(Net, self).__init__() \n",
    "        self.conv1 = nn.Conv2d(3, 6, 5) \n",
    "        self.pool = nn.MaxPool2d(2, 2) \n",
    "        self.conv2 = nn.Conv2d(6, 16, 5) \n",
    "        self.fc1 = nn.Linear(16 * 5 * 5, 120) \n",
    "        self.fc2 = nn.Linear(120, 84) \n",
    "        self.fc3 = nn.Linear(84, 3) \n",
    "    def forward(self, x): \n",
    "        x = self.pool(F.relu(self.conv1(x))) #x = self.conv1(x), x = F.relu(x), x = self.pool(x) \n",
    "        x = self.pool(F.relu(self.conv2(x))) #x = self.conv2(x), x = F.relu(x), x = self.pool(x) \n",
    "        x = x.view(-1, 16 * 5 * 5) #flatten a 16x5x5 tensor to 16x5x5-dimensional vector \n",
    "        x = F.relu(self.fc1(x)) \n",
    "        x = F.relu(self.fc2(x)) \n",
    "        x = self.fc3(x) \n",
    "        return x \n",
    "net = Net() "
   ]
  },
  {
   "cell_type": "code",
   "execution_count": 4,
   "metadata": {},
   "outputs": [],
   "source": [
    "import torch.optim as optim \n",
    "criterion = nn.CrossEntropyLoss() \n",
    "optimizer = optim.SGD(net.parameters(), lr=0.001, momentum=0.9)"
   ]
  },
  {
   "cell_type": "code",
   "execution_count": 5,
   "metadata": {},
   "outputs": [
    {
     "name": "stdout",
     "output_type": "stream",
     "text": [
      "Finished Training\n",
      "Training time in 4.6126744747161865 seconds ---\n"
     ]
    }
   ],
   "source": [
    "import time\n",
    "loss_history = [] \n",
    "epoch = 2 \n",
    "start_time = time.time()\n",
    "for e in range(epoch): # loop over the dataset multiple times \n",
    "    running_loss = 0.0 \n",
    "    for i, data in enumerate(trainloader, 0): \n",
    "# get the inputs; data is a list of [inputs, labels] \n",
    "        inputs, labels = data \n",
    "# zero the parameter gradients \n",
    "        optimizer.zero_grad() \n",
    "# forward + backward + optimize \n",
    "        outputs = net(inputs) \n",
    "        loss = criterion(outputs, labels) \n",
    "        loss.backward() \n",
    "        optimizer.step() \n",
    "# print statistics \n",
    "        running_loss += loss.item() \n",
    "        if i % 2000 == 1999: # print every 2000 mini-batches \n",
    "            print('[%d, %5d] loss: %.3f' % \n",
    "            (e + 1, i + 1, running_loss / 2000)) \n",
    "            loss_history.append(running_loss) \n",
    "            running_loss = 0.0 \n",
    "print('Finished Training') \n",
    "print(\"Training time in %s seconds ---\" % (time.time() - start_time))\n",
    "#plt.plot(loss_history, label = 'training loss', color = 'r') \n",
    "#plt.legend(loc = \"upper left\") \n",
    "#plt.show() "
   ]
  },
  {
   "cell_type": "code",
   "execution_count": 6,
   "metadata": {},
   "outputs": [],
   "source": [
    "PATH = './cifar_net.pth' \n",
    "torch.save(net.state_dict(), PATH)"
   ]
  },
  {
   "cell_type": "code",
   "execution_count": 7,
   "metadata": {},
   "outputs": [
    {
     "data": {
      "image/png": "[encoded data removed]",
      "text/plain": [
       "<Figure size 432x288 with 1 Axes>"
      ]
     },
     "metadata": {
      "needs_background": "light"
     },
     "output_type": "display_data"
    },
    {
     "name": "stdout",
     "output_type": "stream",
     "text": [
      "GroundTruth:  sitting sitting sitting\n"
     ]
    }
   ],
   "source": [
    "dataiter = iter(testloader) \n",
    "images, labels = dataiter.next() \n",
    "# print images \n",
    "imshow(torchvision.utils.make_grid(images)) \n",
    "print('GroundTruth: ', ' '.join('%5s' % classes[labels[j]] for j in range(3)))"
   ]
  },
  {
   "cell_type": "code",
   "execution_count": 8,
   "metadata": {},
   "outputs": [],
   "source": [
    "#load the trained network \n",
    "net = Net() \n",
    "net.load_state_dict(torch.load(PATH)) \n",
    "outputs = net(images) "
   ]
  },
  {
   "cell_type": "code",
   "execution_count": 9,
   "metadata": {},
   "outputs": [
    {
     "name": "stdout",
     "output_type": "stream",
     "text": [
      "Predicted:  walking walking walking\n"
     ]
    }
   ],
   "source": [
    "_, predicted_labels = torch.max(outputs, 1) \n",
    "print('Predicted: ', ' '.join('%5s' % classes[predicted_labels[j]] \n",
    "        for j in range(3)))"
   ]
  },
  {
   "cell_type": "code",
   "execution_count": 10,
   "metadata": {},
   "outputs": [
    {
     "name": "stdout",
     "output_type": "stream",
     "text": [
      "Accuracy of the network on the 10000 test images: 33 %\n"
     ]
    }
   ],
   "source": [
    "correct = 0 \n",
    "total = 0 \n",
    "with torch.no_grad(): \n",
    "    for data in testloader: \n",
    "        images, groundtruth_labels = data \n",
    "        outputs = net(images) \n",
    "        _, predicted_labels = torch.max(outputs.data, 1) \n",
    "        total += groundtruth_labels.size(0) \n",
    "        correct += (predicted_labels == groundtruth_labels).sum().item() \n",
    "print('Accuracy of the network on the 10000 test images: %d %%' % (100 * correct / total)) "
   ]
  },
  {
   "cell_type": "code",
   "execution_count": 11,
   "metadata": {
    "scrolled": false
   },
   "outputs": [
    {
     "name": "stdout",
     "output_type": "stream",
     "text": [
      "Accuracy of sitting :  0 %\n",
      "Accuracy of standingup :  0 %\n",
      "Accuracy of walking : 100 %\n",
      "Testing time in 2.4660866260528564 seconds ---\n"
     ]
    }
   ],
   "source": [
    "import time\n",
    "class_correct = list(0. for i in range(3)) \n",
    "class_total = list(0. for i in range(3)) \n",
    "start_time = time.time()\n",
    "#the following to help calculate the accuracy and confusion matrix \n",
    "predicted_labels_entire=[]\n",
    "groundtruth_labels_entire=[] \n",
    "\n",
    "with torch.no_grad(): \n",
    "    for data in testloader: \n",
    "        images, groundtruth_labels = data \n",
    "        \n",
    "        groundtruth_labels_entire+=groundtruth_labels\n",
    "        \n",
    "        outputs = net(images) \n",
    "        _, predicted_labels = torch.max(outputs, 1) \n",
    "        \n",
    "        predicted_labels_entire+=predicted_labels\n",
    "        \n",
    "        c = (predicted_labels == groundtruth_labels).squeeze() \n",
    "        for i in range(3): \n",
    "            label = groundtruth_labels[i] \n",
    "            class_correct[label] += c[i].item() \n",
    "            class_total[label] += 1 \n",
    "for i in range(3): \n",
    "    print('Accuracy of %5s : %2d %%' % ( \n",
    "        classes[i], 100 * class_correct[i] / class_total[i])) \n",
    "print(\"Testing time in %s seconds ---\" % (time.time() - start_time))"
   ]
  },
  {
   "cell_type": "markdown",
   "metadata": {},
   "source": [
    "## Confusion Matrix"
   ]
  },
  {
   "cell_type": "code",
   "execution_count": 12,
   "metadata": {},
   "outputs": [
    {
     "name": "stdout",
     "output_type": "stream",
     "text": [
      "[[ 0  0 25]\n",
      " [ 0  0 25]\n",
      " [ 0  0 25]]\n"
     ]
    },
    {
     "data": {
      "image/png": "[encoded data removed]",
      "text/plain": [
       "<Figure size 432x288 with 2 Axes>"
      ]
     },
     "metadata": {
      "needs_background": "light"
     },
     "output_type": "display_data"
    }
   ],
   "source": [
    "from sklearn.metrics import classification_report,confusion_matrix\n",
    "cm = confusion_matrix(groundtruth_labels_entire, predicted_labels_entire)\n",
    "print(cm)\n",
    "\n",
    "from sklearn import metrics\n",
    "cm = confusion_matrix(groundtruth_labels_entire, predicted_labels_entire)\n",
    "    \n",
    "# Create confusion matrix plot with class label names\n",
    "confusion_matrix_plot = metrics.ConfusionMatrixDisplay(confusion_matrix = cm,\n",
    "                                                   display_labels = classes)\n",
    "    \n",
    "#Display the confusion matrix plot\n",
    "confusion_matrix_plot.plot(cmap = plt.cm.Greens)\n",
    "plt.show()"
   ]
  },
  {
   "cell_type": "code",
   "execution_count": null,
   "metadata": {},
   "outputs": [],
   "source": []
  }
 ],
 "metadata": {
  "accelerator": "GPU",
  "colab": {
   "collapsed_sections": [],
   "name": "Untitled1.ipynb",
   "provenance": []
  },
  "kernelspec": {
   "display_name": "Python 3 (ipykernel)",
   "language": "python",
   "name": "python3"
  },
  "language_info": {
   "codemirror_mode": {
    "name": "ipython",
    "version": 3
   },
   "file_extension": ".py",
   "mimetype": "text/x-python",
   "name": "python",
   "nbconvert_exporter": "python",
   "pygments_lexer": "ipython3",
   "version": "3.9.7"
  },
  "widgets": {
   "application/vnd.jupyter.widget-state+json": {
    "010e794d3f524c71974f849f6d792abb": {
     "model_module": "@jupyter-widgets/controls",
     "model_name": "ProgressStyleModel",
     "state": {
      "_model_module": "@jupyter-widgets/controls",
      "_model_module_version": "1.5.0",
      "_model_name": "ProgressStyleModel",
      "_view_count": null,
      "_view_module": "@jupyter-widgets/base",
      "_view_module_version": "1.2.0",
      "_view_name": "StyleView",
      "bar_color": null,
      "description_width": "initial"
     }
    },
    "122148545d004cf79573b421980a3f07": {
     "model_module": "@jupyter-widgets/controls",
     "model_name": "DescriptionStyleModel",
     "state": {
      "_model_module": "@jupyter-widgets/controls",
      "_model_module_version": "1.5.0",
      "_model_name": "DescriptionStyleModel",
      "_view_count": null,
      "_view_module": "@jupyter-widgets/base",
      "_view_module_version": "1.2.0",
      "_view_name": "StyleView",
      "description_width": ""
     }
    },
    "4fb0e8b005d24672ae9b3c2db3bfee3f": {
     "model_module": "@jupyter-widgets/controls",
     "model_name": "FloatProgressModel",
     "state": {
      "_dom_classes": [],
      "_model_module": "@jupyter-widgets/controls",
      "_model_module_version": "1.5.0",
      "_model_name": "FloatProgressModel",
      "_view_count": null,
      "_view_module": "@jupyter-widgets/controls",
      "_view_module_version": "1.5.0",
      "_view_name": "ProgressView",
      "bar_style": "info",
      "description": "",
      "description_tooltip": null,
      "layout": "IPY_MODEL_c660ed17630e4c3cad6cac72c1bbc7be",
      "max": 1,
      "min": 0,
      "orientation": "horizontal",
      "style": "IPY_MODEL_010e794d3f524c71974f849f6d792abb",
      "value": 1
     }
    },
    "5094b04d559d4344b1ac38d621b08bfa": {
     "model_module": "@jupyter-widgets/controls",
     "model_name": "HBoxModel",
     "state": {
      "_dom_classes": [],
      "_model_module": "@jupyter-widgets/controls",
      "_model_module_version": "1.5.0",
      "_model_name": "HBoxModel",
      "_view_count": null,
      "_view_module": "@jupyter-widgets/controls",
      "_view_module_version": "1.5.0",
      "_view_name": "HBoxView",
      "box_style": "",
      "children": [
       "IPY_MODEL_4fb0e8b005d24672ae9b3c2db3bfee3f",
       "IPY_MODEL_bd53e30678264b36a701c6af4c1ae02a"
      ],
      "layout": "IPY_MODEL_fcd99fb483174ec489510f7f9ddf9289"
     }
    },
    "7f7c1c2edfc04d00923c53c478211c04": {
     "model_module": "@jupyter-widgets/base",
     "model_name": "LayoutModel",
     "state": {
      "_model_module": "@jupyter-widgets/base",
      "_model_module_version": "1.2.0",
      "_model_name": "LayoutModel",
      "_view_count": null,
      "_view_module": "@jupyter-widgets/base",
      "_view_module_version": "1.2.0",
      "_view_name": "LayoutView",
      "align_content": null,
      "align_items": null,
      "align_self": null,
      "border": null,
      "bottom": null,
      "display": null,
      "flex": null,
      "flex_flow": null,
      "grid_area": null,
      "grid_auto_columns": null,
      "grid_auto_flow": null,
      "grid_auto_rows": null,
      "grid_column": null,
      "grid_gap": null,
      "grid_row": null,
      "grid_template_areas": null,
      "grid_template_columns": null,
      "grid_template_rows": null,
      "height": null,
      "justify_content": null,
      "justify_items": null,
      "left": null,
      "margin": null,
      "max_height": null,
      "max_width": null,
      "min_height": null,
      "min_width": null,
      "object_fit": null,
      "object_position": null,
      "order": null,
      "overflow": null,
      "overflow_x": null,
      "overflow_y": null,
      "padding": null,
      "right": null,
      "top": null,
      "visibility": null,
      "width": null
     }
    },
    "bd53e30678264b36a701c6af4c1ae02a": {
     "model_module": "@jupyter-widgets/controls",
     "model_name": "HTMLModel",
     "state": {
      "_dom_classes": [],
      "_model_module": "@jupyter-widgets/controls",
      "_model_module_version": "1.5.0",
      "_model_name": "HTMLModel",
      "_view_count": null,
      "_view_module": "@jupyter-widgets/controls",
      "_view_module_version": "1.5.0",
      "_view_name": "HTMLView",
      "description": "",
      "description_tooltip": null,
      "layout": "IPY_MODEL_7f7c1c2edfc04d00923c53c478211c04",
      "placeholder": "​",
      "style": "IPY_MODEL_122148545d004cf79573b421980a3f07",
      "value": " 170500096/? [00:20&lt;00:00, 33126078.52it/s]"
     }
    },
    "c660ed17630e4c3cad6cac72c1bbc7be": {
     "model_module": "@jupyter-widgets/base",
     "model_name": "LayoutModel",
     "state": {
      "_model_module": "@jupyter-widgets/base",
      "_model_module_version": "1.2.0",
      "_model_name": "LayoutModel",
      "_view_count": null,
      "_view_module": "@jupyter-widgets/base",
      "_view_module_version": "1.2.0",
      "_view_name": "LayoutView",
      "align_content": null,
      "align_items": null,
      "align_self": null,
      "border": null,
      "bottom": null,
      "display": null,
      "flex": null,
      "flex_flow": null,
      "grid_area": null,
      "grid_auto_columns": null,
      "grid_auto_flow": null,
      "grid_auto_rows": null,
      "grid_column": null,
      "grid_gap": null,
      "grid_row": null,
      "grid_template_areas": null,
      "grid_template_columns": null,
      "grid_template_rows": null,
      "height": null,
      "justify_content": null,
      "justify_items": null,
      "left": null,
      "margin": null,
      "max_height": null,
      "max_width": null,
      "min_height": null,
      "min_width": null,
      "object_fit": null,
      "object_position": null,
      "order": null,
      "overflow": null,
      "overflow_x": null,
      "overflow_y": null,
      "padding": null,
      "right": null,
      "top": null,
      "visibility": null,
      "width": null
     }
    },
    "fcd99fb483174ec489510f7f9ddf9289": {
     "model_module": "@jupyter-widgets/base",
     "model_name": "LayoutModel",
     "state": {
      "_model_module": "@jupyter-widgets/base",
      "_model_module_version": "1.2.0",
      "_model_name": "LayoutModel",
      "_view_count": null,
      "_view_module": "@jupyter-widgets/base",
      "_view_module_version": "1.2.0",
      "_view_name": "LayoutView",
      "align_content": null,
      "align_items": null,
      "align_self": null,
      "border": null,
      "bottom": null,
      "display": null,
      "flex": null,
      "flex_flow": null,
      "grid_area": null,
      "grid_auto_columns": null,
      "grid_auto_flow": null,
      "grid_auto_rows": null,
      "grid_column": null,
      "grid_gap": null,
      "grid_row": null,
      "grid_template_areas": null,
      "grid_template_columns": null,
      "grid_template_rows": null,
      "height": null,
      "justify_content": null,
      "justify_items": null,
      "left": null,
      "margin": null,
      "max_height": null,
      "max_width": null,
      "min_height": null,
      "min_width": null,
      "object_fit": null,
      "object_position": null,
      "order": null,
      "overflow": null,
      "overflow_x": null,
      "overflow_y": null,
      "padding": null,
      "right": null,
      "top": null,
      "visibility": null,
      "width": null
     }
    }
   }
  }
 },
 "nbformat": 4,
 "nbformat_minor": 1
}
