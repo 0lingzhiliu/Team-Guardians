{
 "cells": [
  {
   "cell_type": "code",
   "execution_count": 1,
   "id": "daee2170",
   "metadata": {},
   "outputs": [],
   "source": [
    "import pandas as pd\n",
    "import matplotlib.pyplot as plt\n",
    "import scipy.fft as ffour\n",
    "import numpy as np"
   ]
  },
  {
   "cell_type": "code",
   "execution_count": 2,
   "id": "8bbe6ce2",
   "metadata": {},
   "outputs": [],
   "source": [
    "cumb_sample_df=pd.read_csv('./1P36A01R01.dat',delimiter=\",\")"
   ]
  },
  {
   "cell_type": "markdown",
   "id": "5ce5046a",
   "metadata": {},
   "source": [
    "# File Format\n",
    "\n",
    "The data have been organised in separate folders with .dat files for each data collection, with details provided \n",
    "in the remainder of this document. <br> \n",
    "The data files have been named with this generic approach KPXXAYYRZ so that\n",
    "* the digits K 1 2 3 4 5 and 6 at the beginning indicates the activities walking, sitting down, stand up, pick up \n",
    "an object, drink water, and fall respectively; <br>\n",
    "* the characters XX indicate the subject (individual person) having ID XX (01, 02, etc…);\n",
    "* the characters YY indicate the activity being performed such as A01, A02, A03, A04, A05, and A06; <br>\n",
    "* the character Z indicates the repetition of the activity such as R1, R2, etc. <br>\n",
    "\n",
    "\n",
    "Some information about the subjects (age, height, gender, dominant hand) is also reported in this document \n",
    "as metadata. Note also that in some cases not all the information were available, and this has been replaced \n",
    "by n/a for some subjects.\n"
   ]
  },
  {
   "cell_type": "code",
   "execution_count": 3,
   "id": "30872068",
   "metadata": {},
   "outputs": [
    {
     "data": {
      "text/plain": [
       "(1280003, 1)"
      ]
     },
     "execution_count": 3,
     "metadata": {},
     "output_type": "execute_result"
    }
   ],
   "source": [
    "cumb_sample_df.shape"
   ]
  },
  {
   "cell_type": "code",
   "execution_count": 4,
   "id": "b6c73d23",
   "metadata": {},
   "outputs": [
    {
     "data": {
      "text/html": [
       "<div>\n",
       "<style scoped>\n",
       "    .dataframe tbody tr th:only-of-type {\n",
       "        vertical-align: middle;\n",
       "    }\n",
       "\n",
       "    .dataframe tbody tr th {\n",
       "        vertical-align: top;\n",
       "    }\n",
       "\n",
       "    .dataframe thead th {\n",
       "        text-align: right;\n",
       "    }\n",
       "</style>\n",
       "<table border=\"1\" class=\"dataframe\">\n",
       "  <thead>\n",
       "    <tr style=\"text-align: right;\">\n",
       "      <th></th>\n",
       "      <th>5800000000.000000</th>\n",
       "    </tr>\n",
       "  </thead>\n",
       "  <tbody>\n",
       "    <tr>\n",
       "      <th>0</th>\n",
       "      <td>1.000000</td>\n",
       "    </tr>\n",
       "    <tr>\n",
       "      <th>1</th>\n",
       "      <td>128</td>\n",
       "    </tr>\n",
       "    <tr>\n",
       "      <th>2</th>\n",
       "      <td>400000000.000000</td>\n",
       "    </tr>\n",
       "    <tr>\n",
       "      <th>3</th>\n",
       "      <td>1812+1897i</td>\n",
       "    </tr>\n",
       "    <tr>\n",
       "      <th>4</th>\n",
       "      <td>1782+2029i</td>\n",
       "    </tr>\n",
       "    <tr>\n",
       "      <th>5</th>\n",
       "      <td>2265+2014i</td>\n",
       "    </tr>\n",
       "    <tr>\n",
       "      <th>6</th>\n",
       "      <td>2286+1763i</td>\n",
       "    </tr>\n",
       "    <tr>\n",
       "      <th>7</th>\n",
       "      <td>2401+2152i</td>\n",
       "    </tr>\n",
       "    <tr>\n",
       "      <th>8</th>\n",
       "      <td>2342+2324i</td>\n",
       "    </tr>\n",
       "    <tr>\n",
       "      <th>9</th>\n",
       "      <td>2225+2441i</td>\n",
       "    </tr>\n",
       "  </tbody>\n",
       "</table>\n",
       "</div>"
      ],
      "text/plain": [
       "  5800000000.000000\n",
       "0          1.000000\n",
       "1               128\n",
       "2  400000000.000000\n",
       "3        1812+1897i\n",
       "4        1782+2029i\n",
       "5        2265+2014i\n",
       "6        2286+1763i\n",
       "7        2401+2152i\n",
       "8        2342+2324i\n",
       "9        2225+2441i"
      ]
     },
     "execution_count": 4,
     "metadata": {},
     "output_type": "execute_result"
    }
   ],
   "source": [
    "cumb_sample_df.head(10)"
   ]
  },
  {
   "cell_type": "code",
   "execution_count": 32,
   "id": "43266577",
   "metadata": {},
   "outputs": [
    {
     "data": {
      "text/html": [
       "<div>\n",
       "<style scoped>\n",
       "    .dataframe tbody tr th:only-of-type {\n",
       "        vertical-align: middle;\n",
       "    }\n",
       "\n",
       "    .dataframe tbody tr th {\n",
       "        vertical-align: top;\n",
       "    }\n",
       "\n",
       "    .dataframe thead th {\n",
       "        text-align: right;\n",
       "    }\n",
       "</style>\n",
       "<table border=\"1\" class=\"dataframe\">\n",
       "  <thead>\n",
       "    <tr style=\"text-align: right;\">\n",
       "      <th></th>\n",
       "      <th>5800000000.000000</th>\n",
       "    </tr>\n",
       "  </thead>\n",
       "  <tbody>\n",
       "    <tr>\n",
       "      <th>count</th>\n",
       "      <td>1280003</td>\n",
       "    </tr>\n",
       "    <tr>\n",
       "      <th>unique</th>\n",
       "      <td>804719</td>\n",
       "    </tr>\n",
       "    <tr>\n",
       "      <th>top</th>\n",
       "      <td>2033+2080i</td>\n",
       "    </tr>\n",
       "    <tr>\n",
       "      <th>freq</th>\n",
       "      <td>12</td>\n",
       "    </tr>\n",
       "  </tbody>\n",
       "</table>\n",
       "</div>"
      ],
      "text/plain": [
       "       5800000000.000000\n",
       "count            1280003\n",
       "unique            804719\n",
       "top           2033+2080i\n",
       "freq                  12"
      ]
     },
     "execution_count": 32,
     "metadata": {},
     "output_type": "execute_result"
    }
   ],
   "source": [
    "cumb_sample_df.describe()"
   ]
  },
  {
   "cell_type": "markdown",
   "id": "e7f436c2",
   "metadata": {},
   "source": [
    "# Array format\n",
    "\n",
    "When imported into MATLAB (or equivalent software), each file is seen as a long 1D complex array (or table). <br> \n",
    "The first 4 elements include in this order \n",
    "* the carrier frequency (5.8 GHz) * the duration of the chirp (1 ms) \n",
    "* the number of samples per recorded beat-note signal (128 samples) \n",
    "* and the bandwidth of the chirp (400 MHz); \n",
    "\n",
    "the following elements are the complex samples of the sequence of recorded beat-notes one after the other."
   ]
  },
  {
   "cell_type": "code",
   "execution_count": 44,
   "id": "f5425e26",
   "metadata": {},
   "outputs": [
    {
     "name": "stdout",
     "output_type": "stream",
     "text": [
      "complex_array        object\n",
      "real_comp             int64\n",
      "im_comp               int64\n",
      "complex_col      complex128\n",
      "dtype: object\n"
     ]
    }
   ],
   "source": [
    "# drop the first 3 as they are duration, number of samples and bandwidth (the carrier frequency came through as\n",
    "# the column name which we will rename later)\n",
    "\n",
    "cumb_sample_df=cumb_sample_df.drop([0,1,2])\n",
    "cumb_sample_df=cumb_sample_df.rename(columns={'5800000000.000000':'complex_array'})\n",
    "cumb_sample_df=cumb_sample_df.reset_index(drop=True)\n",
    "print(cumb_sample_df.dtypes)"
   ]
  },
  {
   "cell_type": "markdown",
   "id": "acf17bda",
   "metadata": {},
   "source": [
    "# Tips from Francesco\n",
    "\n",
    "Each file you download should come in the form of a long vector -\n",
    "<span style=\"color:red\">Need to paste text here from email</span>."
   ]
  },
  {
   "cell_type": "code",
   "execution_count": 34,
   "id": "d997359d",
   "metadata": {},
   "outputs": [],
   "source": [
    "real_list=[]\n",
    "imaginary_list=[]\n",
    "complex_list=[]\n",
    "for c_num in cumb_sample_df['complex_array']:\n",
    "    c_split=c_num.split('+')\n",
    "    real_list.append(int(c_split[0]))\n",
    "    im_input=c_split[1]\n",
    "    com_input=im_input.replace(\"i\",\"\")\n",
    "    com_input=int(com_input)\n",
    "    imaginary_list.append(com_input)\n",
    "    complex_list.append(complex(int(c_split[0]),com_input))"
   ]
  },
  {
   "cell_type": "code",
   "execution_count": 35,
   "id": "457955e6",
   "metadata": {},
   "outputs": [],
   "source": [
    "cumb_sample_df=cumb_sample_df.assign(real_comp=real_list)\n",
    "cumb_sample_df=cumb_sample_df.assign(im_comp=imaginary_list) \n",
    "cumb_sample_df=cumb_sample_df.assign(complex_col=complex_list)\n",
    "np_comp_array=cumb_sample_df['complex_col'].to_numpy(dtype=complex)\n",
    "np_comp_reshape=np.reshape(np_comp_array,(10000,128))\n",
    "comp_list_rb=[]\n",
    "for comp_list in np_comp_reshape:\n",
    "    list_rb=[]\n",
    "    list_rb=ffour.fft(comp_list)\n",
    "    comp_list_rb.append(list_rb)\n",
    "comp_list_rb_abs=[]\n",
    "max_abs=0\n",
    "min_abs=0\n",
    "for comp_list_abs in comp_list_rb:\n",
    "    list_rb_abs=[]\n",
    "    list_rb_abs=abs(comp_list_abs)\n",
    "    max_list=max(list_rb_abs)\n",
    "    min_list=min(list_rb_abs)\n",
    "    if max_list>max_abs:\n",
    "        max_abs=max_list\n",
    "    if min_list< min_abs and not min_abs==0:\n",
    "        min_abs=min_list\n",
    "    elif min_abs==0:\n",
    "        min_abs=min_list\n",
    "    comp_list_rb_abs.append(list_rb_abs)"
   ]
  },
  {
   "cell_type": "code",
   "execution_count": 36,
   "id": "86057d61",
   "metadata": {},
   "outputs": [
    {
     "name": "stdout",
     "output_type": "stream",
     "text": [
      "   complex_array  real_comp  im_comp     complex_col\n",
      "0     1812+1897i       1812     1897  1812.0+1897.0j\n",
      "1     1782+2029i       1782     2029  1782.0+2029.0j\n",
      "2     2265+2014i       2265     2014  2265.0+2014.0j\n",
      "3     2286+1763i       2286     1763  2286.0+1763.0j\n",
      "4     2401+2152i       2401     2152  2401.0+2152.0j\n",
      "..           ...        ...      ...             ...\n",
      "95    2093+1768i       2093     1768  2093.0+1768.0j\n",
      "96    2231+1925i       2231     1925  2231.0+1925.0j\n",
      "97    2243+2153i       2243     2153  2243.0+2153.0j\n",
      "98    2119+2275i       2119     2275  2119.0+2275.0j\n",
      "99    1986+2211i       1986     2211  1986.0+2211.0j\n",
      "\n",
      "[100 rows x 4 columns]\n"
     ]
    }
   ],
   "source": [
    "print(cumb_sample_df.head(100))"
   ]
  },
  {
   "cell_type": "code",
   "execution_count": 43,
   "id": "38dabcc4",
   "metadata": {},
   "outputs": [
    {
     "name": "stdout",
     "output_type": "stream",
     "text": [
      "[1812, 1782, 2265, 2286]\n",
      "[1897, 2029, 2014, 1763]\n",
      "[(1812+1897j), (1782+2029j), (2265+2014j), (2286+1763j)]\n",
      "1280000\n",
      "0.151100548246267\n",
      "373662.3934101477\n"
     ]
    }
   ],
   "source": [
    "print(real_list[0:4])\n",
    "print(imaginary_list[0:4])\n",
    "print(complex_list[0:4])\n",
    "print(len(real_list))\n",
    "#print(cumb_sample_df.dtypes)\n",
    "#print(np_comp_array)\n",
    "#print(np_comp_array.dtype)\n",
    "#print(np_comp_reshape)\n",
    "#print(np_comp_reshape.shape)\n",
    "##print(list_rb)\n",
    "#print(list_rb_abs)\n",
    "print(min_abs)\n",
    "print(max_abs)"
   ]
  },
  {
   "cell_type": "code",
   "execution_count": 38,
   "id": "19c7378a",
   "metadata": {},
   "outputs": [
    {
     "name": "stdout",
     "output_type": "stream",
     "text": [
      "   Absolute_values\n",
      "0    370411.175567\n",
      "1      2335.739867\n",
      "2      1503.475480\n",
      "3      1435.227699\n",
      "4      1457.870976\n",
      "5      1882.958307\n",
      "6      2102.611910\n",
      "7      2547.913905\n",
      "8      1657.275289\n",
      "9      5427.939413\n",
      "128\n"
     ]
    },
    {
     "data": {
      "image/png": "[encoded data removed]",
      "text/plain": [
       "<Figure size 432x288 with 1 Axes>"
      ]
     },
     "metadata": {
      "needs_background": "light"
     },
     "output_type": "display_data"
    }
   ],
   "source": [
    "df_abs_val=pd.DataFrame(list_rb_abs,columns=['Absolute_values'])\n",
    "print(df_abs_val.head(10))\n",
    "print(len(list_rb_abs))\n",
    "plt.plot(df_abs_val['Absolute_values'])\n",
    "plt.show()"
   ]
  },
  {
   "cell_type": "code",
   "execution_count": null,
   "id": "1e244fe6",
   "metadata": {},
   "outputs": [],
   "source": []
  }
 ],
 "metadata": {
  "kernelspec": {
   "display_name": "Python 3 (ipykernel)",
   "language": "python",
   "name": "python3"
  },
  "language_info": {
   "codemirror_mode": {
    "name": "ipython",
    "version": 3
   },
   "file_extension": ".py",
   "mimetype": "text/x-python",
   "name": "python",
   "nbconvert_exporter": "python",
   "pygments_lexer": "ipython3",
   "version": "3.9.7"
  }
 },
 "nbformat": 4,
 "nbformat_minor": 5
}
